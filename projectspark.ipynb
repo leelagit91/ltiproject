{
 "cells": [
  {
   "cell_type": "code",
   "execution_count": 2,
   "id": "f3145d35-dae5-4fff-921a-3692c9a56957",
   "metadata": {},
   "outputs": [],
   "source": [
    "from pyspark.sql import SparkSession\n",
    "from pyspark.sql.functions import *\n",
    "from pyspark.sql.types import *\n",
    "import matplotlib.pyplot as plt\n",
    "import seaborn as sns\n"
   ]
  },
  {
   "cell_type": "code",
   "execution_count": 3,
   "id": "3b8e5400-1f4e-4cdb-950c-6b8c62a6bda7",
   "metadata": {},
   "outputs": [],
   "source": [
    "spark=SparkSession.builder.getOrCreate()"
   ]
  },
  {
   "cell_type": "code",
   "execution_count": 5,
   "id": "66dd315e-4087-4b7f-8562-b4a37c00fdd9",
   "metadata": {},
   "outputs": [
    {
     "name": "stderr",
     "output_type": "stream",
     "text": [
      "                                                                                \r"
     ]
    }
   ],
   "source": [
    "df=spark.read.csv(\"/user/lee/finaldataset.csv\")"
   ]
  },
  {
   "cell_type": "code",
   "execution_count": 7,
   "id": "92dc952c-200e-48f7-a949-d845f87850f7",
   "metadata": {},
   "outputs": [],
   "source": [
    "schema=StructType([\n",
    "    StructField('fullVisitors', IntegerType(), True),\n",
    "    StructField('Channel',StringType(), True),\n",
    "    StructField('time', IntegerType(), True),\n",
    "    StructField('country', StringType(), True),\n",
    "    StructField('city', StringType(), True),\n",
    "    StructField('timeOnsite', IntegerType(), True),\n",
    "    StructField('pageviews', IntegerType(), True),\n",
    "    StructField('date', IntegerType(), True),\n",
    "    StructField('vistId', StringType(), True),\n",
    "    StructField('type', StringType(), True), \n",
    "    StructField('productprice', IntegerType(), True),\n",
    "    StructField('Ptype', StringType(), True), \n",
    "    StructField('path', StringType(), True),\n",
    "    StructField('channelpath', StringType(), True)\n",
    "])\n",
    "    "
   ]
  },
  {
   "cell_type": "code",
   "execution_count": null,
   "id": "a41ad150-1f27-4d15-8189-6a8eb58c753f",
   "metadata": {},
   "outputs": [],
   "source": []
  }
 ],
 "metadata": {
  "kernelspec": {
   "display_name": "PySpark",
   "language": "python",
   "name": "pyspark"
  },
  "language_info": {
   "codemirror_mode": {
    "name": "ipython",
    "version": 3
   },
   "file_extension": ".py",
   "mimetype": "text/x-python",
   "name": "python",
   "nbconvert_exporter": "python",
   "pygments_lexer": "ipython3",
   "version": "3.10.8"
  }
 },
 "nbformat": 4,
 "nbformat_minor": 5
}
